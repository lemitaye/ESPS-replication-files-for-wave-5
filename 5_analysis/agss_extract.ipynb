{
 "cells": [
  {
   "cell_type": "code",
   "execution_count": 92,
   "id": "c9c7cef9",
   "metadata": {},
   "outputs": [
    {
     "name": "stderr",
     "output_type": "stream",
     "text": [
      "java version \"1.8.0_341\"\n",
      "Java(TM) SE Runtime Environment (build 1.8.0_341-b10)\n",
      "Java HotSpot(TM) 64-Bit Server VM (build 25.341-b10, mixed mode)\n"
     ]
    }
   ],
   "source": [
    "!java -version"
   ]
  },
  {
   "cell_type": "code",
   "execution_count": 93,
   "id": "b81076b5",
   "metadata": {},
   "outputs": [],
   "source": [
    "!pip install -q tabula-py"
   ]
  },
  {
   "cell_type": "code",
   "execution_count": 94,
   "id": "dfe67e95",
   "metadata": {},
   "outputs": [],
   "source": [
    "import tabula\n",
    "import pandas as pd\n",
    "import numpy as np"
   ]
  },
  {
   "cell_type": "markdown",
   "id": "e7a5c73d",
   "metadata": {},
   "source": [
    "## 2012/13"
   ]
  },
  {
   "cell_type": "code",
   "execution_count": 126,
   "id": "08079506",
   "metadata": {},
   "outputs": [
    {
     "name": "stdout",
     "output_type": "stream",
     "text": [
      "11\n"
     ]
    }
   ],
   "source": [
    "pdf_path = \"C:/Users/l.daba/OneDrive/SPIA/Ethiopia/other/AgSS_report_2012_2021/FINAL_2012_13_2005EC Crop Prod report.pdf\"\n",
    "\n",
    "dfs = tabula.read_pdf(pdf_path, stream=True, pages=\"102-112\")\n",
    "# read_pdf returns list of DataFrames\n",
    "print(len(dfs))\n",
    "#dfs[0]"
   ]
  },
  {
   "cell_type": "code",
   "execution_count": 127,
   "id": "e847b8d2",
   "metadata": {},
   "outputs": [],
   "source": [
    "regions = [\"Ethiopia\", \"Tigray\", \"Afar\", \"Amhara\", \"Oromia\", \"Somali\", \"Benishangul-Gumuz\", \"SNNP\", \"Gambela\", \"Harari\", \"Dire Dawa\"]\n",
    "\n",
    "for i in range(0, len(dfs)):\n",
    "    #print(regions[i])\n",
    "    dfs[i][\"region\"] = regions[i]"
   ]
  },
  {
   "cell_type": "code",
   "execution_count": 128,
   "id": "5b8df7e3",
   "metadata": {},
   "outputs": [],
   "source": [
    "# Export to csv\n",
    "path = \"C:/Users/l.daba/OneDrive/SPIA/Ethiopia/other/AgSS_extracted/2012_13\"\n",
    "\n",
    "for i, _df in enumerate(dfs):\n",
    "    filename = '/2013_' + regions[i] + '.csv'\n",
    "    #print(path + filename)\n",
    "    _df.to_csv(path + filename)"
   ]
  },
  {
   "cell_type": "code",
   "execution_count": 98,
   "id": "ad62b083",
   "metadata": {},
   "outputs": [
    {
     "data": {
      "text/html": [
       "<div>\n",
       "<style scoped>\n",
       "    .dataframe tbody tr th:only-of-type {\n",
       "        vertical-align: middle;\n",
       "    }\n",
       "\n",
       "    .dataframe tbody tr th {\n",
       "        vertical-align: top;\n",
       "    }\n",
       "\n",
       "    .dataframe thead th {\n",
       "        text-align: right;\n",
       "    }\n",
       "</style>\n",
       "<table border=\"1\" class=\"dataframe\">\n",
       "  <thead>\n",
       "    <tr style=\"text-align: right;\">\n",
       "      <th></th>\n",
       "      <th>crop</th>\n",
       "      <th>area</th>\n",
       "      <th>area_se</th>\n",
       "      <th>area_cv</th>\n",
       "      <th>production</th>\n",
       "      <th>production_se</th>\n",
       "      <th>production_cv</th>\n",
       "      <th>region</th>\n",
       "    </tr>\n",
       "  </thead>\n",
       "  <tbody>\n",
       "    <tr>\n",
       "      <th>0</th>\n",
       "      <td>Crop</td>\n",
       "      <td>Area</td>\n",
       "      <td>Error</td>\n",
       "      <td>CV</td>\n",
       "      <td>Production</td>\n",
       "      <td>Error</td>\n",
       "      <td>CV</td>\n",
       "      <td>Ethiopia</td>\n",
       "    </tr>\n",
       "    <tr>\n",
       "      <th>1</th>\n",
       "      <td>NaN</td>\n",
       "      <td>NaN</td>\n",
       "      <td>NaN</td>\n",
       "      <td>%</td>\n",
       "      <td>NaN</td>\n",
       "      <td>NaN</td>\n",
       "      <td>%</td>\n",
       "      <td>Ethiopia</td>\n",
       "    </tr>\n",
       "    <tr>\n",
       "      <th>2</th>\n",
       "      <td>Grain</td>\n",
       "      <td>12,282,929.98</td>\n",
       "      <td>177,159.04</td>\n",
       "      <td>1.44</td>\n",
       "      <td>231,288,471.77</td>\n",
       "      <td>4,210,712.97</td>\n",
       "      <td>1.82</td>\n",
       "      <td>Ethiopia</td>\n",
       "    </tr>\n",
       "    <tr>\n",
       "      <th>3</th>\n",
       "      <td>Cereals</td>\n",
       "      <td>9,601,035.26</td>\n",
       "      <td>142,055.59</td>\n",
       "      <td>1.48</td>\n",
       "      <td>196,511,515.46</td>\n",
       "      <td>3,794,198.94</td>\n",
       "      <td>1.93</td>\n",
       "      <td>Ethiopia</td>\n",
       "    </tr>\n",
       "    <tr>\n",
       "      <th>4</th>\n",
       "      <td>Teff</td>\n",
       "      <td>2,730,272.95</td>\n",
       "      <td>77,443.24</td>\n",
       "      <td>2.84</td>\n",
       "      <td>37,652,411.66</td>\n",
       "      <td>1,399,597.24</td>\n",
       "      <td>3.72</td>\n",
       "      <td>Ethiopia</td>\n",
       "    </tr>\n",
       "  </tbody>\n",
       "</table>\n",
       "</div>"
      ],
      "text/plain": [
       "      crop           area     area_se area_cv      production production_se  \\\n",
       "0     Crop           Area       Error      CV      Production         Error   \n",
       "1      NaN            NaN         NaN       %             NaN           NaN   \n",
       "2    Grain  12,282,929.98  177,159.04    1.44  231,288,471.77  4,210,712.97   \n",
       "3  Cereals   9,601,035.26  142,055.59    1.48  196,511,515.46  3,794,198.94   \n",
       "4     Teff   2,730,272.95   77,443.24    2.84   37,652,411.66  1,399,597.24   \n",
       "\n",
       "  production_cv    region  \n",
       "0            CV  Ethiopia  \n",
       "1             %  Ethiopia  \n",
       "2          1.82  Ethiopia  \n",
       "3          1.93  Ethiopia  \n",
       "4          3.72  Ethiopia  "
      ]
     },
     "execution_count": 98,
     "metadata": {},
     "output_type": "execute_result"
    }
   ],
   "source": [
    "df_eth = dfs[0]\n",
    "df_eth.rename(columns = {\n",
    "    df_eth.columns[0]: \"crop\", df_eth.columns[1]: \"area\", \n",
    "    df_eth.columns[2]: \"area_se\", df_eth.columns[3]: \"area_cv\",\n",
    "    df_eth.columns[4]: \"production\", df_eth.columns[5]: \"production_se\", \n",
    "    df_eth.columns[6]: \"production_cv\"\n",
    "}, inplace = True)\n",
    "\n",
    "#df_eth = df_eth.iloc[2:]\n",
    "df_eth.head()"
   ]
  },
  {
   "cell_type": "markdown",
   "id": "3458c41e",
   "metadata": {},
   "source": [
    "## 2013/14"
   ]
  },
  {
   "cell_type": "code",
   "execution_count": 99,
   "id": "ee8543e7",
   "metadata": {},
   "outputs": [
    {
     "name": "stdout",
     "output_type": "stream",
     "text": [
      "11\n"
     ]
    }
   ],
   "source": [
    "pdf_path = \"C:/Users/l.daba/OneDrive/SPIA/Ethiopia/other/AgSS_report_2012_2021/FINAL_2013_14_2006EC Crop Prod report.pdf\"\n",
    "\n",
    "dfs = tabula.read_pdf(pdf_path, stream=True, pages=\"101-111\")\n",
    "# read_pdf returns list of DataFrames\n",
    "print(len(dfs))\n",
    "#dfs[0]"
   ]
  },
  {
   "cell_type": "code",
   "execution_count": 100,
   "id": "62da7df1",
   "metadata": {},
   "outputs": [],
   "source": [
    "regions = [\"Ethiopia\", \"Tigray\", \"Afar\", \"Amhara\", \"Oromia\", \"Somali\", \"Benishangul-Gumuz\", \"SNNP\", \"Gambela\", \"Harari\", \"Dire Dawa\"]\n",
    "\n",
    "for i in range(0, len(dfs)):\n",
    "    #print(regions[i])\n",
    "    dfs[i][\"region\"] = regions[i]"
   ]
  },
  {
   "cell_type": "code",
   "execution_count": 101,
   "id": "c71fe83a",
   "metadata": {},
   "outputs": [],
   "source": [
    "# Export to csv\n",
    "path = \"C:/Users/l.daba/OneDrive/SPIA/Ethiopia/other/AgSS_extracted/2013_14\"\n",
    "\n",
    "for i, _df in enumerate(dfs):\n",
    "    filename = '/2014_' + regions[i] + '.csv'\n",
    "    #print(path + filename)\n",
    "    _df.to_csv(path + filename)"
   ]
  },
  {
   "cell_type": "markdown",
   "id": "0a264c3c",
   "metadata": {},
   "source": [
    "## 2014/15"
   ]
  },
  {
   "cell_type": "code",
   "execution_count": 102,
   "id": "baa948e2",
   "metadata": {},
   "outputs": [
    {
     "name": "stdout",
     "output_type": "stream",
     "text": [
      "11\n"
     ]
    }
   ],
   "source": [
    "pdf_path = \"C:/Users/l.daba/OneDrive/SPIA/Ethiopia/other/AgSS_report_2012_2021/FINAL_2014 15_2007 EC Crop Prod report.pdf\"\n",
    "\n",
    "dfs = tabula.read_pdf(pdf_path, stream=True, pages=\"102-112\")\n",
    "# read_pdf returns list of DataFrames\n",
    "print(len(dfs))\n",
    "#dfs[10]"
   ]
  },
  {
   "cell_type": "code",
   "execution_count": 103,
   "id": "5f48f8cb",
   "metadata": {},
   "outputs": [],
   "source": [
    "regions = [\"Ethiopia\", \"Tigray\", \"Afar\", \"Amhara\", \"Oromia\", \"Somali\", \"Benishangul-Gumuz\", \"SNNP\", \"Gambela\", \"Harari\", \"Dire Dawa\"]\n",
    "\n",
    "for i in range(0, len(dfs)):\n",
    "    #print(regions[i])\n",
    "    dfs[i][\"region\"] = regions[i]"
   ]
  },
  {
   "cell_type": "code",
   "execution_count": 104,
   "id": "8d0c5b67",
   "metadata": {},
   "outputs": [],
   "source": [
    "# Export to csv\n",
    "path = \"C:/Users/l.daba/OneDrive/SPIA/Ethiopia/other/AgSS_extracted/2014_15\"\n",
    "\n",
    "for i, _df in enumerate(dfs):\n",
    "    filename = '/2015_' + regions[i] + '.csv'\n",
    "    #print(path + filename)\n",
    "    _df.to_csv(path + filename)"
   ]
  },
  {
   "cell_type": "markdown",
   "id": "225dd313",
   "metadata": {},
   "source": [
    "## 2015/16"
   ]
  },
  {
   "cell_type": "code",
   "execution_count": 105,
   "id": "16b88836",
   "metadata": {},
   "outputs": [
    {
     "name": "stdout",
     "output_type": "stream",
     "text": [
      "11\n"
     ]
    }
   ],
   "source": [
    "pdf_path = \"C:/Users/l.daba/OneDrive/SPIA/Ethiopia/other/AgSS_report_2012_2021/FINAL_2015_16_2008EC Crop Prod report.pdf\"\n",
    "\n",
    "dfs = tabula.read_pdf(pdf_path, stream=True, pages=\"102-112\")\n",
    "# read_pdf returns list of DataFrames\n",
    "print(len(dfs))\n",
    "#dfs[10]"
   ]
  },
  {
   "cell_type": "code",
   "execution_count": 106,
   "id": "fcd0ce32",
   "metadata": {},
   "outputs": [],
   "source": [
    "regions = [\"Ethiopia\", \"Tigray\", \"Afar\", \"Amhara\", \"Oromia\", \"Somali\", \"Benishangul-Gumuz\", \"SNNP\", \"Gambela\", \"Harari\", \"Dire Dawa\"]\n",
    "\n",
    "for i in range(0, len(dfs)):\n",
    "    #print(regions[i])\n",
    "    dfs[i][\"region\"] = regions[i]"
   ]
  },
  {
   "cell_type": "code",
   "execution_count": 107,
   "id": "4fb925ad",
   "metadata": {},
   "outputs": [],
   "source": [
    "# Export to csv\n",
    "path = \"C:/Users/l.daba/OneDrive/SPIA/Ethiopia/other/AgSS_extracted/2015_16\"\n",
    "\n",
    "for i, _df in enumerate(dfs):\n",
    "    filename = '/2016_' + regions[i] + '.csv'\n",
    "    #print(path + filename)\n",
    "    _df.to_csv(path + filename)"
   ]
  },
  {
   "cell_type": "markdown",
   "id": "22814db9",
   "metadata": {},
   "source": [
    "## 2016/17"
   ]
  },
  {
   "cell_type": "code",
   "execution_count": 108,
   "id": "f35fb4ee",
   "metadata": {},
   "outputs": [
    {
     "name": "stdout",
     "output_type": "stream",
     "text": [
      "11\n"
     ]
    }
   ],
   "source": [
    "pdf_path = \"C:/Users/l.daba/OneDrive/SPIA/Ethiopia/other/AgSS_report_2012_2021/FINAL_2016_17_2009EC Crop Prod report.pdf\"\n",
    "\n",
    "dfs = tabula.read_pdf(pdf_path, stream=True, pages=\"103-113\")\n",
    "# read_pdf returns list of DataFrames\n",
    "print(len(dfs))\n",
    "#dfs[10]"
   ]
  },
  {
   "cell_type": "code",
   "execution_count": 109,
   "id": "63620b75",
   "metadata": {},
   "outputs": [],
   "source": [
    "regions = [\"Ethiopia\", \"Tigray\", \"Afar\", \"Amhara\", \"Oromia\", \"Somali\", \"Benishangul-Gumuz\", \"SNNP\", \"Gambela\", \"Harari\", \"Dire Dawa\"]\n",
    "\n",
    "for i in range(0, len(dfs)):\n",
    "    #print(regions[i])\n",
    "    dfs[i][\"region\"] = regions[i]"
   ]
  },
  {
   "cell_type": "code",
   "execution_count": 110,
   "id": "3b0cf6b2",
   "metadata": {},
   "outputs": [],
   "source": [
    "# Export to csv\n",
    "path = \"C:/Users/l.daba/OneDrive/SPIA/Ethiopia/other/AgSS_extracted/2016_17\"\n",
    "\n",
    "for i, _df in enumerate(dfs):\n",
    "    filename = '/2017_' + regions[i] + '.csv'\n",
    "    #print(path + filename)\n",
    "    _df.to_csv(path + filename)"
   ]
  },
  {
   "cell_type": "markdown",
   "id": "2a3ac591",
   "metadata": {},
   "source": [
    "## 2017/18"
   ]
  },
  {
   "cell_type": "code",
   "execution_count": 111,
   "id": "7596f43e",
   "metadata": {},
   "outputs": [
    {
     "name": "stdout",
     "output_type": "stream",
     "text": [
      "11\n"
     ]
    }
   ],
   "source": [
    "pdf_path = \"C:/Users/l.daba/OneDrive/SPIA/Ethiopia/other/AgSS_report_2012_2021/FINAL_2017_19_2010EC Crop Prod report.pdf\"\n",
    "\n",
    "dfs = tabula.read_pdf(pdf_path, stream=True, pages=\"39-49\")\n",
    "# read_pdf returns list of DataFrames\n",
    "print(len(dfs))\n",
    "#dfs[10]"
   ]
  },
  {
   "cell_type": "code",
   "execution_count": 112,
   "id": "10b55973",
   "metadata": {},
   "outputs": [],
   "source": [
    "regions = [\"Ethiopia\", \"Tigray\", \"Afar\", \"Amhara\", \"Oromia\", \"Somali\", \"Benishangul-Gumuz\", \"SNNP\", \"Gambela\", \"Harari\", \"Dire Dawa\"]\n",
    "\n",
    "for i in range(0, len(dfs)):\n",
    "    #print(regions[i])\n",
    "    dfs[i][\"region\"] = regions[i]"
   ]
  },
  {
   "cell_type": "code",
   "execution_count": 113,
   "id": "42f25b3c",
   "metadata": {},
   "outputs": [],
   "source": [
    "# Export to csv\n",
    "path = \"C:/Users/l.daba/OneDrive/SPIA/Ethiopia/other/AgSS_extracted/2017_18\"\n",
    "\n",
    "for i, _df in enumerate(dfs):\n",
    "    filename = '/2018_' + regions[i] + '.csv'\n",
    "    #print(path + filename)\n",
    "    _df.to_csv(path + filename)"
   ]
  },
  {
   "cell_type": "markdown",
   "id": "91a83a75",
   "metadata": {},
   "source": [
    "## 2018/19"
   ]
  },
  {
   "cell_type": "code",
   "execution_count": 133,
   "id": "566d89f4",
   "metadata": {},
   "outputs": [
    {
     "name": "stdout",
     "output_type": "stream",
     "text": [
      "11\n"
     ]
    }
   ],
   "source": [
    "pdf_path = \"C:/Users/l.daba/OneDrive/SPIA/Ethiopia/other/AgSS_report_2012_2021/FINAL_2018_19_2011EC Crop Prod report.pdf\"\n",
    "\n",
    "dfs = tabula.read_pdf(pdf_path, stream=True, pages=\"39-49\")\n",
    "# read_pdf returns list of DataFrames\n",
    "print(len(dfs))\n",
    "#dfs[10]"
   ]
  },
  {
   "cell_type": "code",
   "execution_count": 137,
   "id": "cdd4d2e5",
   "metadata": {},
   "outputs": [
    {
     "data": {
      "text/html": [
       "<div>\n",
       "<style scoped>\n",
       "    .dataframe tbody tr th:only-of-type {\n",
       "        vertical-align: middle;\n",
       "    }\n",
       "\n",
       "    .dataframe tbody tr th {\n",
       "        vertical-align: top;\n",
       "    }\n",
       "\n",
       "    .dataframe thead th {\n",
       "        text-align: right;\n",
       "    }\n",
       "</style>\n",
       "<table border=\"1\" class=\"dataframe\">\n",
       "  <thead>\n",
       "    <tr style=\"text-align: right;\">\n",
       "      <th></th>\n",
       "      <th>CV Crop  Area</th>\n",
       "      <th>Standard</th>\n",
       "      <th>CV</th>\n",
       "      <th>Production</th>\n",
       "      <th>Standard.1</th>\n",
       "      <th>Unnamed: 0</th>\n",
       "    </tr>\n",
       "  </thead>\n",
       "  <tbody>\n",
       "    <tr>\n",
       "      <th>0</th>\n",
       "      <td>NaN</td>\n",
       "      <td>Error</td>\n",
       "      <td>(%)</td>\n",
       "      <td>NaN</td>\n",
       "      <td>Error</td>\n",
       "      <td>(%)</td>\n",
       "    </tr>\n",
       "    <tr>\n",
       "      <th>1</th>\n",
       "      <td>Total Grains................ 12,727,191.21</td>\n",
       "      <td>261,324.98</td>\n",
       "      <td>2.07</td>\n",
       "      <td>315,602,058.49</td>\n",
       "      <td>8,520,276.09</td>\n",
       "      <td>2.72</td>\n",
       "    </tr>\n",
       "    <tr>\n",
       "      <th>2</th>\n",
       "      <td>Cereals......................... 10,358,890.13</td>\n",
       "      <td>216,389.41</td>\n",
       "      <td>2.10</td>\n",
       "      <td>277,638,380.98</td>\n",
       "      <td>7,891,412.87</td>\n",
       "      <td>2.86</td>\n",
       "    </tr>\n",
       "    <tr>\n",
       "      <th>3</th>\n",
       "      <td>Teff............................ 3,076,595.02</td>\n",
       "      <td>113,564.73</td>\n",
       "      <td>3.69</td>\n",
       "      <td>54,034,790.51</td>\n",
       "      <td>2,328,077.49</td>\n",
       "      <td>4.31</td>\n",
       "    </tr>\n",
       "    <tr>\n",
       "      <th>4</th>\n",
       "      <td>Barley........................ 811,782.08</td>\n",
       "      <td>56,595.39</td>\n",
       "      <td>6.97</td>\n",
       "      <td>17,675,184.47</td>\n",
       "      <td>1,557,935.55</td>\n",
       "      <td>8.81</td>\n",
       "    </tr>\n",
       "    <tr>\n",
       "      <th>5</th>\n",
       "      <td>Wheat........................ 1,747,939.31</td>\n",
       "      <td>112,179.04</td>\n",
       "      <td>6.44</td>\n",
       "      <td>48,380,740.91</td>\n",
       "      <td>4,190,573.96</td>\n",
       "      <td>8.68</td>\n",
       "    </tr>\n",
       "    <tr>\n",
       "      <th>6</th>\n",
       "      <td>Maize............................ 2,367,797.39</td>\n",
       "      <td>89,729.67</td>\n",
       "      <td>3.84</td>\n",
       "      <td>94,927,708.34</td>\n",
       "      <td>4,835,185.79</td>\n",
       "      <td>5.13</td>\n",
       "    </tr>\n",
       "    <tr>\n",
       "      <th>7</th>\n",
       "      <td>Sorghum...................... 1,829,662.39</td>\n",
       "      <td>97,240.32</td>\n",
       "      <td>5.44</td>\n",
       "      <td>50,243,680.72</td>\n",
       "      <td>3,031,089.66</td>\n",
       "      <td>6.15</td>\n",
       "    </tr>\n",
       "    <tr>\n",
       "      <th>8</th>\n",
       "      <td>Finger Millet................ 446,909.00</td>\n",
       "      <td>31,007.88</td>\n",
       "      <td>6.94</td>\n",
       "      <td>10,356,295.66</td>\n",
       "      <td>811,423.65</td>\n",
       "      <td>7.84</td>\n",
       "    </tr>\n",
       "    <tr>\n",
       "      <th>9</th>\n",
       "      <td>Oats/'Aja'..................... 14,843.08</td>\n",
       "      <td>2,952.41</td>\n",
       "      <td>19.89</td>\n",
       "      <td>301,439.40</td>\n",
       "      <td>59,697.79</td>\n",
       "      <td>19.80</td>\n",
       "    </tr>\n",
       "    <tr>\n",
       "      <th>10</th>\n",
       "      <td>Rice........................... 63,361.86</td>\n",
       "      <td>16,500.90</td>\n",
       "      <td>26.04</td>\n",
       "      <td>1,718,540.95</td>\n",
       "      <td>503,133.50</td>\n",
       "      <td>29.28</td>\n",
       "    </tr>\n",
       "    <tr>\n",
       "      <th>11</th>\n",
       "      <td>Pulses....................... 1,620,497.30</td>\n",
       "      <td>63,594.21</td>\n",
       "      <td>3.93</td>\n",
       "      <td>30,113,480.57</td>\n",
       "      <td>1,369,583.51</td>\n",
       "      <td>4.55</td>\n",
       "    </tr>\n",
       "    <tr>\n",
       "      <th>12</th>\n",
       "      <td>Faba Beans............. 492,271.60</td>\n",
       "      <td>27,539.70</td>\n",
       "      <td>5.59</td>\n",
       "      <td>10,419,535.14</td>\n",
       "      <td>739,035.24</td>\n",
       "      <td>7.09</td>\n",
       "    </tr>\n",
       "    <tr>\n",
       "      <th>13</th>\n",
       "      <td>Field Pease................ 216,786.33</td>\n",
       "      <td>16,896.49</td>\n",
       "      <td>7.79</td>\n",
       "      <td>3,608,112.40</td>\n",
       "      <td>330,676.81</td>\n",
       "      <td>9.16</td>\n",
       "    </tr>\n",
       "    <tr>\n",
       "      <th>14</th>\n",
       "      <td>Whight Haricot beans. 88,302.71</td>\n",
       "      <td>14,554.00</td>\n",
       "      <td>16.48</td>\n",
       "      <td>1,508,230.37</td>\n",
       "      <td>257,975.90</td>\n",
       "      <td>17.10</td>\n",
       "    </tr>\n",
       "    <tr>\n",
       "      <th>15</th>\n",
       "      <td>Red Haricot beans...... 200,334.52</td>\n",
       "      <td>19,816.04</td>\n",
       "      <td>9.93</td>\n",
       "      <td>3,374,971.33</td>\n",
       "      <td>405,671.02</td>\n",
       "      <td>12.03</td>\n",
       "    </tr>\n",
       "    <tr>\n",
       "      <th>16</th>\n",
       "      <td>Chick-Peas (Red)....... 163,067.24</td>\n",
       "      <td>17,920.24</td>\n",
       "      <td>10.99</td>\n",
       "      <td>3,301,531.98</td>\n",
       "      <td>391,188.85</td>\n",
       "      <td>11.85</td>\n",
       "    </tr>\n",
       "    <tr>\n",
       "      <th>17</th>\n",
       "      <td>Chick-Peas (White)...... 76,718.89</td>\n",
       "      <td>16,738.96</td>\n",
       "      <td>21.82</td>\n",
       "      <td>1,290,199.89</td>\n",
       "      <td>332,134.65</td>\n",
       "      <td>25.74</td>\n",
       "    </tr>\n",
       "    <tr>\n",
       "      <th>18</th>\n",
       "      <td>Lentils.......................... 99,753.97</td>\n",
       "      <td>10,604.50</td>\n",
       "      <td>10.63</td>\n",
       "      <td>1,408,122.17</td>\n",
       "      <td>174,396.00</td>\n",
       "      <td>12.39</td>\n",
       "    </tr>\n",
       "    <tr>\n",
       "      <th>19</th>\n",
       "      <td>Grass Peas.................. 130,543.38</td>\n",
       "      <td>14,681.75</td>\n",
       "      <td>11.25</td>\n",
       "      <td>2,604,157.88</td>\n",
       "      <td>310,782.74</td>\n",
       "      <td>11.93</td>\n",
       "    </tr>\n",
       "    <tr>\n",
       "      <th>20</th>\n",
       "      <td>Soya Beans.................. 64,720.12</td>\n",
       "      <td>21,886.02</td>\n",
       "      <td>33.82</td>\n",
       "      <td>1,494,546.13</td>\n",
       "      <td>520,988.71</td>\n",
       "      <td>34.86</td>\n",
       "    </tr>\n",
       "    <tr>\n",
       "      <th>21</th>\n",
       "      <td>Fenugreek.................... 22,344.12</td>\n",
       "      <td>3,532.44</td>\n",
       "      <td>15.81</td>\n",
       "      <td>288,299.94</td>\n",
       "      <td>59,138.50</td>\n",
       "      <td>20.51</td>\n",
       "    </tr>\n",
       "    <tr>\n",
       "      <th>22</th>\n",
       "      <td>Mung bean \"Masho\"... 48,074.52</td>\n",
       "      <td>8,921.05</td>\n",
       "      <td>19.23</td>\n",
       "      <td>576,204.64</td>\n",
       "      <td>121,712.49</td>\n",
       "      <td>21.78</td>\n",
       "    </tr>\n",
       "    <tr>\n",
       "      <th>23</th>\n",
       "      <td>Gibto............................ 17,579.90</td>\n",
       "      <td>7,346.13</td>\n",
       "      <td>41.79</td>\n",
       "      <td>239,568.71</td>\n",
       "      <td>85,391.68</td>\n",
       "      <td>35.64</td>\n",
       "    </tr>\n",
       "    <tr>\n",
       "      <th>24</th>\n",
       "      <td>Oilseeds....................... 747,803.78</td>\n",
       "      <td>61,391.03</td>\n",
       "      <td>8.24</td>\n",
       "      <td>7,850,196.94</td>\n",
       "      <td>829,313.11</td>\n",
       "      <td>10.63</td>\n",
       "    </tr>\n",
       "    <tr>\n",
       "      <th>25</th>\n",
       "      <td>Neug.......................... 257,950.40</td>\n",
       "      <td>33,507.81</td>\n",
       "      <td>12.99</td>\n",
       "      <td>2,963,227.47</td>\n",
       "      <td>592,911.29</td>\n",
       "      <td>20.01</td>\n",
       "    </tr>\n",
       "    <tr>\n",
       "      <th>26</th>\n",
       "      <td>Linseed....................... 83,626.93</td>\n",
       "      <td>12,765.87</td>\n",
       "      <td>15.27</td>\n",
       "      <td>966,855.92</td>\n",
       "      <td>233,188.02</td>\n",
       "      <td>24.12</td>\n",
       "    </tr>\n",
       "    <tr>\n",
       "      <th>27</th>\n",
       "      <td>Groundnut.................. 84,237.01</td>\n",
       "      <td>17,490.22</td>\n",
       "      <td>21.29</td>\n",
       "      <td>1,440,912.59</td>\n",
       "      <td>396,000.38</td>\n",
       "      <td>28.40</td>\n",
       "    </tr>\n",
       "    <tr>\n",
       "      <th>28</th>\n",
       "      <td>Sufflower..................... 6,489.00</td>\n",
       "      <td>1,359.81</td>\n",
       "      <td>20.99</td>\n",
       "      <td>80,394.80</td>\n",
       "      <td>18,357.17</td>\n",
       "      <td>22.83</td>\n",
       "    </tr>\n",
       "    <tr>\n",
       "      <th>29</th>\n",
       "      <td>Sesame........................ 294,819.49</td>\n",
       "      <td>43,318.75</td>\n",
       "      <td>14.72</td>\n",
       "      <td>2,016,646.44</td>\n",
       "      <td>350,440.15</td>\n",
       "      <td>17.39</td>\n",
       "    </tr>\n",
       "    <tr>\n",
       "      <th>30</th>\n",
       "      <td>Rapeseed..................... 20,680.95</td>\n",
       "      <td>2,352.37</td>\n",
       "      <td>11.37</td>\n",
       "      <td>382,159.71</td>\n",
       "      <td>62,573.47</td>\n",
       "      <td>16.37</td>\n",
       "    </tr>\n",
       "  </tbody>\n",
       "</table>\n",
       "</div>"
      ],
      "text/plain": [
       "                                     CV Crop  Area    Standard     CV  \\\n",
       "0                                              NaN       Error    (%)   \n",
       "1       Total Grains................ 12,727,191.21  261,324.98   2.07   \n",
       "2   Cereals......................... 10,358,890.13  216,389.41   2.10   \n",
       "3    Teff............................ 3,076,595.02  113,564.73   3.69   \n",
       "4        Barley........................ 811,782.08   56,595.39   6.97   \n",
       "5       Wheat........................ 1,747,939.31  112,179.04   6.44   \n",
       "6   Maize............................ 2,367,797.39   89,729.67   3.84   \n",
       "7       Sorghum...................... 1,829,662.39   97,240.32   5.44   \n",
       "8         Finger Millet................ 446,909.00   31,007.88   6.94   \n",
       "9        Oats/'Aja'..................... 14,843.08    2,952.41  19.89   \n",
       "10       Rice........................... 63,361.86   16,500.90  26.04   \n",
       "11      Pulses....................... 1,620,497.30   63,594.21   3.93   \n",
       "12              Faba Beans............. 492,271.60   27,539.70   5.59   \n",
       "13          Field Pease................ 216,786.33   16,896.49   7.79   \n",
       "14                 Whight Haricot beans. 88,302.71   14,554.00  16.48   \n",
       "15              Red Haricot beans...... 200,334.52   19,816.04   9.93   \n",
       "16              Chick-Peas (Red)....... 163,067.24   17,920.24  10.99   \n",
       "17              Chick-Peas (White)...... 76,718.89   16,738.96  21.82   \n",
       "18     Lentils.......................... 99,753.97   10,604.50  10.63   \n",
       "19         Grass Peas.................. 130,543.38   14,681.75  11.25   \n",
       "20          Soya Beans.................. 64,720.12   21,886.02  33.82   \n",
       "21         Fenugreek.................... 22,344.12    3,532.44  15.81   \n",
       "22                  Mung bean \"Masho\"... 48,074.52    8,921.05  19.23   \n",
       "23     Gibto............................ 17,579.90    7,346.13  41.79   \n",
       "24      Oilseeds....................... 747,803.78   61,391.03   8.24   \n",
       "25       Neug.......................... 257,950.40   33,507.81  12.99   \n",
       "26        Linseed....................... 83,626.93   12,765.87  15.27   \n",
       "27           Groundnut.................. 84,237.01   17,490.22  21.29   \n",
       "28         Sufflower..................... 6,489.00    1,359.81  20.99   \n",
       "29       Sesame........................ 294,819.49   43,318.75  14.72   \n",
       "30         Rapeseed..................... 20,680.95    2,352.37  11.37   \n",
       "\n",
       "        Production    Standard.1 Unnamed: 0  \n",
       "0              NaN         Error        (%)  \n",
       "1   315,602,058.49  8,520,276.09       2.72  \n",
       "2   277,638,380.98  7,891,412.87       2.86  \n",
       "3    54,034,790.51  2,328,077.49       4.31  \n",
       "4    17,675,184.47  1,557,935.55       8.81  \n",
       "5    48,380,740.91  4,190,573.96       8.68  \n",
       "6    94,927,708.34  4,835,185.79       5.13  \n",
       "7    50,243,680.72  3,031,089.66       6.15  \n",
       "8    10,356,295.66    811,423.65       7.84  \n",
       "9       301,439.40     59,697.79      19.80  \n",
       "10    1,718,540.95    503,133.50      29.28  \n",
       "11   30,113,480.57  1,369,583.51       4.55  \n",
       "12   10,419,535.14    739,035.24       7.09  \n",
       "13    3,608,112.40    330,676.81       9.16  \n",
       "14    1,508,230.37    257,975.90      17.10  \n",
       "15    3,374,971.33    405,671.02      12.03  \n",
       "16    3,301,531.98    391,188.85      11.85  \n",
       "17    1,290,199.89    332,134.65      25.74  \n",
       "18    1,408,122.17    174,396.00      12.39  \n",
       "19    2,604,157.88    310,782.74      11.93  \n",
       "20    1,494,546.13    520,988.71      34.86  \n",
       "21      288,299.94     59,138.50      20.51  \n",
       "22      576,204.64    121,712.49      21.78  \n",
       "23      239,568.71     85,391.68      35.64  \n",
       "24    7,850,196.94    829,313.11      10.63  \n",
       "25    2,963,227.47    592,911.29      20.01  \n",
       "26      966,855.92    233,188.02      24.12  \n",
       "27    1,440,912.59    396,000.38      28.40  \n",
       "28       80,394.80     18,357.17      22.83  \n",
       "29    2,016,646.44    350,440.15      17.39  \n",
       "30      382,159.71     62,573.47      16.37  "
      ]
     },
     "execution_count": 137,
     "metadata": {},
     "output_type": "execute_result"
    }
   ],
   "source": [
    "dfs[0]"
   ]
  },
  {
   "cell_type": "code",
   "execution_count": 115,
   "id": "e81772ae",
   "metadata": {},
   "outputs": [],
   "source": [
    "regions = [\"Ethiopia\", \"Tigray\", \"Afar\", \"Amhara\", \"Oromia\", \"Somali\", \"Benishangul-Gumuz\", \"SNNP\", \"Gambela\", \"Harari\", \"Dire Dawa\"]\n",
    "\n",
    "for i in range(0, len(dfs)):\n",
    "    #print(regions[i])\n",
    "    dfs[i][\"region\"] = regions[i]"
   ]
  },
  {
   "cell_type": "code",
   "execution_count": 116,
   "id": "ae48840d",
   "metadata": {},
   "outputs": [],
   "source": [
    "# Export to csv\n",
    "path = \"C:/Users/l.daba/OneDrive/SPIA/Ethiopia/other/AgSS_extracted/2018_19\"\n",
    "\n",
    "for i, _df in enumerate(dfs):\n",
    "    filename = '/2019_' + regions[i] + '.csv'\n",
    "    #print(path + filename)\n",
    "    _df.to_csv(path + filename)"
   ]
  },
  {
   "cell_type": "markdown",
   "id": "10d7daea",
   "metadata": {},
   "source": [
    "## 2019/20"
   ]
  },
  {
   "cell_type": "code",
   "execution_count": 117,
   "id": "fa623063",
   "metadata": {},
   "outputs": [
    {
     "name": "stdout",
     "output_type": "stream",
     "text": [
      "11\n"
     ]
    }
   ],
   "source": [
    "pdf_path = \"C:/Users/l.daba/OneDrive/SPIA/Ethiopia/other/AgSS_report_2012_2021/FINAL_2019_20_2012EC Crop Prod report.pdf\"\n",
    "\n",
    "dfs = tabula.read_pdf(pdf_path, stream=True, pages=\"116-126\")\n",
    "# read_pdf returns list of DataFrames\n",
    "print(len(dfs))\n",
    "#dfs[10]"
   ]
  },
  {
   "cell_type": "code",
   "execution_count": 118,
   "id": "73dfb0d3",
   "metadata": {},
   "outputs": [],
   "source": [
    "regions = [\"Ethiopia\", \"Tigray\", \"Afar\", \"Amhara\", \"Oromia\", \"Somali\", \"Benishangul-Gumuz\", \"SNNP\", \"Gambela\", \"Harari\", \"Dire Dawa\"]\n",
    "\n",
    "for i in range(0, len(dfs)):\n",
    "    #print(regions[i])\n",
    "    dfs[i][\"region\"] = regions[i]"
   ]
  },
  {
   "cell_type": "code",
   "execution_count": 119,
   "id": "1748d8aa",
   "metadata": {},
   "outputs": [],
   "source": [
    "# Export to csv\n",
    "path = \"C:/Users/l.daba/OneDrive/SPIA/Ethiopia/other/AgSS_extracted/2019_20\"\n",
    "\n",
    "for i, _df in enumerate(dfs):\n",
    "    filename = '/2020_' + regions[i] + '.csv'\n",
    "    #print(path + filename)\n",
    "    _df.to_csv(path + filename)"
   ]
  },
  {
   "cell_type": "markdown",
   "id": "256ae715",
   "metadata": {},
   "source": [
    "## 2020/21"
   ]
  },
  {
   "cell_type": "code",
   "execution_count": 120,
   "id": "b463e4a6",
   "metadata": {},
   "outputs": [
    {
     "name": "stdout",
     "output_type": "stream",
     "text": [
      "12\n"
     ]
    }
   ],
   "source": [
    "pdf_path = \"C:/Users/l.daba/OneDrive/SPIA/Ethiopia/other/AgSS_report_2012_2021/FINAL_2020_21_2013EC Crop Prod report.pdf\"\n",
    "\n",
    "dfs = tabula.read_pdf(pdf_path, stream=True, pages=\"120-131\")\n",
    "# read_pdf returns list of DataFrames\n",
    "print(len(dfs))\n",
    "#dfs[10]"
   ]
  },
  {
   "cell_type": "code",
   "execution_count": 121,
   "id": "f04c9032",
   "metadata": {},
   "outputs": [],
   "source": [
    "regions = [\"Ethiopia\", \"Tigray\", \"Afar\", \"Amhara\", \"Oromia\", \"Somali\", \"Benishangul-Gumuz\", \"SNNP\", \"Sidama\", \"Gambela\", \"Harari\", \"Dire Dawa\"]\n",
    "\n",
    "for i in range(0, len(dfs)):\n",
    "    #print(regions[i])\n",
    "    dfs[i][\"region\"] = regions[i]"
   ]
  },
  {
   "cell_type": "code",
   "execution_count": 122,
   "id": "29abf07f",
   "metadata": {},
   "outputs": [],
   "source": [
    "# Export to csv\n",
    "path = \"C:/Users/l.daba/OneDrive/SPIA/Ethiopia/other/AgSS_extracted/2020_21\"\n",
    "\n",
    "for i, _df in enumerate(dfs):\n",
    "    filename = '/2021_' + regions[i] + '.csv'\n",
    "    #print(path + filename)\n",
    "    _df.to_csv(path + filename)"
   ]
  },
  {
   "cell_type": "markdown",
   "id": "4a7c2da8",
   "metadata": {},
   "source": [
    "## 2021/22"
   ]
  },
  {
   "cell_type": "code",
   "execution_count": 129,
   "id": "82037fe8",
   "metadata": {},
   "outputs": [
    {
     "name": "stdout",
     "output_type": "stream",
     "text": [
      "11\n"
     ]
    }
   ],
   "source": [
    "pdf_path = \"C:/Users/l.daba/OneDrive/SPIA/Ethiopia/other/AgSS_report_2012_2021/FINAL_2021_22_2014EC Crop Prod report.pdf\"\n",
    "\n",
    "dfs = tabula.read_pdf(pdf_path, stream=True, pages=\"115-125\")\n",
    "# read_pdf returns list of DataFrames\n",
    "print(len(dfs))\n",
    "#dfs[10]"
   ]
  },
  {
   "cell_type": "code",
   "execution_count": 130,
   "id": "d46fb9bf",
   "metadata": {},
   "outputs": [],
   "source": [
    "regions = [\"Ethiopia\", \"Afar\", \"Amhara\", \"Oromia\", \"Somali\", \"Benishangul-Gumuz\", \"SNNP\", \"Sidama\", \"Gambela\", \"Harari\", \"Dire Dawa\"]\n",
    "\n",
    "for i in range(0, len(dfs)):\n",
    "    #print(regions[i])\n",
    "    dfs[i][\"region\"] = regions[i]"
   ]
  },
  {
   "cell_type": "code",
   "execution_count": 132,
   "id": "f8b54166",
   "metadata": {},
   "outputs": [],
   "source": [
    "# Export to csv\n",
    "path = \"C:/Users/l.daba/OneDrive/SPIA/Ethiopia/other/AgSS_extracted/2021_22\"\n",
    "\n",
    "for i, _df in enumerate(dfs):\n",
    "    filename = '/2022_' + regions[i] + '.csv'\n",
    "    #print(path + filename)\n",
    "    _df.to_csv(path + filename)"
   ]
  }
 ],
 "metadata": {
  "kernelspec": {
   "display_name": "Python 3 (ipykernel)",
   "language": "python",
   "name": "python3"
  },
  "language_info": {
   "codemirror_mode": {
    "name": "ipython",
    "version": 3
   },
   "file_extension": ".py",
   "mimetype": "text/x-python",
   "name": "python",
   "nbconvert_exporter": "python",
   "pygments_lexer": "ipython3",
   "version": "3.10.9"
  }
 },
 "nbformat": 4,
 "nbformat_minor": 5
}
